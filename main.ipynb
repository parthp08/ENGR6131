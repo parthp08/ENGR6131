{
 "cells": [
  {
   "cell_type": "code",
   "execution_count": 1,
   "metadata": {},
   "outputs": [],
   "source": [
    "import numpy as np\n",
    "from Linearization import linearize\n",
    "from utils import print_array, print_matrix\n",
    "\n"
   ]
  },
  {
   "cell_type": "code",
   "execution_count": 2,
   "metadata": {},
   "outputs": [],
   "source": [
    "# Operating Conditions\n",
    "y1_0 = 0.02 # m\n",
    "y2_0 = -0.02 # m\n",
    "y1_dot_0 = 0\n",
    "y2_dot_0 = 0\n",
    "u1_0 = 2927.1 # A\n",
    "u2_0 = 2887.5 # A"
   ]
  },
  {
   "cell_type": "code",
   "execution_count": 3,
   "metadata": {},
   "outputs": [
    {
     "name": "stdout",
     "output_type": "stream",
     "text": [
      "[\n",
      "[0.000000\t-0.000000\t1.000000\t0.000000\t0.000000\t0.000000\t]\n",
      "[0.000000\t-0.000000\t0.000000\t1.000000\t0.000000\t0.000000\t]\n",
      "[-44.244335\t0.062436\t0.000000\t0.000000\t0.015925\t0.000000\t]\n",
      "[0.062436\t43.521737\t0.000000\t0.000000\t0.000000\t0.015925\t]\n",
      "[0.000000\t-0.000000\t0.000000\t0.000000\t0.000000\t0.000000\t]\n",
      "[0.000000\t-0.000000\t0.000000\t0.000000\t0.000000\t0.000000\t]\n",
      "]\n"
     ]
    }
   ],
   "source": [
    "X0 = np.array([y1_0, y2_0, y1_dot_0, y2_dot_0, u1_0, u2_0])\n",
    "A = linearize(X0)\n",
    "print_matrix(A)"
   ]
  },
  {
   "cell_type": "code",
   "execution_count": null,
   "metadata": {},
   "outputs": [],
   "source": []
  }
 ],
 "metadata": {
  "kernelspec": {
   "display_name": "Python 3",
   "language": "python",
   "name": "python3"
  },
  "language_info": {
   "codemirror_mode": {
    "name": "ipython",
    "version": 3
   },
   "file_extension": ".py",
   "mimetype": "text/x-python",
   "name": "python",
   "nbconvert_exporter": "python",
   "pygments_lexer": "ipython3",
   "version": "3.7.3"
  }
 },
 "nbformat": 4,
 "nbformat_minor": 2
}
